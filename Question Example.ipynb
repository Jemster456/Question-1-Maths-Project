{
 "cells": [
  {
   "cell_type": "code",
   "execution_count": 2,
   "id": "d0d71c8d",
   "metadata": {},
   "outputs": [
    {
     "name": "stdout",
     "output_type": "stream",
     "text": [
      "James has 10 counters in a box, 6 RED and 3 BLUE. He decides to take 3 counters out and NOT return them to the box after each selection. He wants to work out the probability of pulling out x blue tokens for 0<=x<=3. Can he use a Binomial for this\n",
      ":'yes' or 'no' yes\n",
      "Correct\n",
      "You got Question 1 correct. He cannot use the binomial since the trials are not independent!\n"
     ]
    }
   ],
   "source": [
    "# Question One Definition\n",
    "question_1a = 0\n",
    "def question_1q():\n",
    "    print(\"James has 10 counters in a box, 6 RED and 3 BLUE. He decides to take 3 counters out and NOT return them to the box after each selection. He wants to work out the probability of pulling out x blue tokens for 0<=x<=3. Can he use a Binomial for this\")\n",
    "    answer_1 = input(\":'yes' or 'no' \")\n",
    "    if answer_1.lower() == \"yes\":\n",
    "        print(\"Correct\")\n",
    "        question_1a = 1\n",
    "    else:\n",
    "        print(\"Incorrect\")\n",
    "        question_1a = 0\n",
    "    return(question_1a)\n",
    "\n",
    "question_1a = question_1q()\n",
    "\n",
    "if question_1a == 1:\n",
    "    print(\"You got Question 1 correct. He cannot use the binomial since the trials are not independent!\")\n",
    "elif question_1a == 0:\n",
    "    print(\"Try Question 1 again. Consider the independence condition for using the Binomial Distribution.\")\n",
    "    question_1q()"
   ]
  },
  {
   "cell_type": "code",
   "execution_count": null,
   "id": "ae8c20dc",
   "metadata": {},
   "outputs": [],
   "source": []
  }
 ],
 "metadata": {
  "kernelspec": {
   "display_name": "Python 3 (ipykernel)",
   "language": "python",
   "name": "python3"
  },
  "language_info": {
   "codemirror_mode": {
    "name": "ipython",
    "version": 3
   },
   "file_extension": ".py",
   "mimetype": "text/x-python",
   "name": "python",
   "nbconvert_exporter": "python",
   "pygments_lexer": "ipython3",
   "version": "3.9.13"
  }
 },
 "nbformat": 4,
 "nbformat_minor": 5
}
