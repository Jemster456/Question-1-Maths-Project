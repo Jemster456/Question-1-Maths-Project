{
 "cells": [
  {
   "cell_type": "code",
   "execution_count": 1,
   "id": "d0d71c8d",
   "metadata": {},
   "outputs": [
    {
     "name": "stdout",
     "output_type": "stream",
     "text": [
      "What two variables typically define a Binomial Distribution\n",
      ":X distributed Binomially with _ and _n and p\n",
      "Correct\n",
      "You got all questions right\n"
     ]
    }
   ],
   "source": [
    "# Question One Definition\n",
    "question_1a = 0\n",
    "def question_1_a():\n",
    "    print(\"What two variables typically define a Binomial Distribution\")\n",
    "    answer_1 = input(\":X distributed Binomially with _ and _\")\n",
    "    if answer_1.lower() == \"n, p\" or answer_1.lower() == \"np\" or answer_1.lower() == \"n and p\":\n",
    "        print(\"Correct\")\n",
    "        question_1a = 1\n",
    "    else:\n",
    "        print(\"Incorrect\")\n",
    "        question_1a = 0\n",
    "    return(question_1a)\n",
    "\n",
    "question_1a = question_1_a()\n",
    "\n",
    "if question_1a == 1:\n",
    "    print(\"You got all questions right\")\n",
    "elif question_1a == 0:\n",
    "    print(\"Try Question 1 a again\")\n",
    "    question_1_a()"
   ]
  },
  {
   "cell_type": "code",
   "execution_count": null,
   "id": "ae8c20dc",
   "metadata": {},
   "outputs": [],
   "source": []
  }
 ],
 "metadata": {
  "kernelspec": {
   "display_name": "Python 3 (ipykernel)",
   "language": "python",
   "name": "python3"
  },
  "language_info": {
   "codemirror_mode": {
    "name": "ipython",
    "version": 3
   },
   "file_extension": ".py",
   "mimetype": "text/x-python",
   "name": "python",
   "nbconvert_exporter": "python",
   "pygments_lexer": "ipython3",
   "version": "3.9.13"
  }
 },
 "nbformat": 4,
 "nbformat_minor": 5
}
